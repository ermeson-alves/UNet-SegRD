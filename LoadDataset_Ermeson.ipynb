{
 "cells": [
  {
   "cell_type": "markdown",
   "id": "521b4836-a40f-4919-b0b5-0c648aa46510",
   "metadata": {},
   "source": [
    "# Data"
   ]
  },
  {
   "cell_type": "code",
   "execution_count": 1,
   "id": "0c82bc41",
   "metadata": {},
   "outputs": [],
   "source": [
    "# https://www.analyticsvidhya.com/blog/2021/06/image-recognition-using-pytorch-lightning/\n",
    "# https://pytorch.org/tutorials/beginner/basics/data_tutorial.html\n",
    "import torchvision\n",
    "import cv2\n",
    "import torchvision.transforms as transforms\n",
    "from torch.utils.data import Dataset, DataLoader\n",
    "import os\n",
    "from random import randint\n",
    "import albumentations as A\n",
    "from albumentations.pytorch import ToTensorV2"
   ]
  },
  {
   "cell_type": "markdown",
   "id": "3ea6147e",
   "metadata": {},
   "source": [
    "# Load dataset"
   ]
  },
  {
   "cell_type": "code",
   "execution_count": 127,
   "id": "0b51999e",
   "metadata": {},
   "outputs": [],
   "source": [
    "# Data train \n",
    "path_image = 'C:/Users/debora.assis/Documents/UNet-SegRD/diaretdb1_v_1_1/ddb1_fundusimages'\n",
    "path_mask = 'C:/Users/debora.assis/Documents/UNet-SegRD/diaretdb1_v_1_1/ddb1_groundtruth/hardexudates'\n",
    "img_list_train = os.listdir(os.path.join(path_image))"
   ]
  },
  {
   "cell_type": "code",
   "execution_count": 128,
   "id": "a0a82815",
   "metadata": {},
   "outputs": [],
   "source": [
    "transformations = {\n",
    "    'train': transforms.Compose([\n",
    "                        transforms.ToPILImage(),\n",
    "                        transforms.Resize((224,224)),\n",
    "                        transforms.Grayscale(1),\n",
    "                        transforms.ToTensor()]),\n",
    "     'test': transforms.Compose([\n",
    "                           transforms.ToPILImage(),\n",
    "                           transforms.Resize((224,224)),\n",
    "                           transforms.RandomRotation(degrees = 45),\n",
    "                           transforms.RandomHorizontalFlip(p = 0.005),\n",
    "                           transforms.Grayscale(1),\n",
    "                           transforms.ToTensor()\n",
    "                           ])\n",
    "}\n"
   ]
  },
  {
   "cell_type": "code",
   "execution_count": 130,
   "id": "da116de8",
   "metadata": {},
   "outputs": [],
   "source": [
    "\n",
    "class RD_SegmentationDataset(Dataset):\n",
    "    def __init__(self, img_list, image_dir, mask_dir, transform=None, target_transform=None):\n",
    "        \n",
    "        self.data_list = img_list\n",
    "        self.data_img = image_dir\n",
    "        self.data_mask = mask_dir\n",
    "        self.transform = transform\n",
    "        self.target_transform = target_transform\n",
    "\n",
    "    def __len__(self):\n",
    "        return len(self.data_img)\n",
    "\n",
    "    def __getitem__(self, idx):\n",
    "\n",
    "        path_image = os.path.join(self.data_img, self.data_list[idx])\n",
    "        print(path_image)\n",
    "        image = cv2.imread(path_image)\n",
    "        image = cv2.cvtColor(image, cv2.COLOR_BGR2GRAY)\n",
    "\n",
    "\n",
    "        path_mask = os.path.join(self.data_mask, self.data_list[idx])\n",
    "        print(path_mask)\n",
    "        mask = cv2.imread(path_mask,0) \n",
    "        mask = cv2.threshold(mask, 240, 255, cv2.THRESH_BINARY)[1]\n",
    "        mask = mask/255\n",
    "        mask = np.expand_dims(mask, 2)\n",
    "\n",
    "\n",
    "        return {'image':image, 'mask':mask}\n",
    "    \n",
    "RD_dataset = RD_SegmentationDataset(img_list_train, path_image, path_mask, transformations['train'])\n",
    "RD_dataloader = DataLoader(RD_dataset, batch_size=4, shuffle=True)"
   ]
  },
  {
   "cell_type": "code",
   "execution_count": 131,
   "id": "627bcbb3",
   "metadata": {},
   "outputs": [
    {
     "name": "stdout",
     "output_type": "stream",
     "text": [
      "C:/Users/debora.assis/Documents/UNet-SegRD/diaretdb1_v_1_1/ddb1_fundusimages\\image004.png\n",
      "C:/Users/debora.assis/Documents/UNet-SegRD/diaretdb1_v_1_1/ddb1_groundtruth/hardexudates\\image004.png\n",
      "C:/Users/debora.assis/Documents/UNet-SegRD/diaretdb1_v_1_1/ddb1_fundusimages\\image051.png\n",
      "C:/Users/debora.assis/Documents/UNet-SegRD/diaretdb1_v_1_1/ddb1_groundtruth/hardexudates\\image051.png\n",
      "C:/Users/debora.assis/Documents/UNet-SegRD/diaretdb1_v_1_1/ddb1_fundusimages\\image026.png\n",
      "C:/Users/debora.assis/Documents/UNet-SegRD/diaretdb1_v_1_1/ddb1_groundtruth/hardexudates\\image026.png\n",
      "C:/Users/debora.assis/Documents/UNet-SegRD/diaretdb1_v_1_1/ddb1_fundusimages\\image089.png\n",
      "C:/Users/debora.assis/Documents/UNet-SegRD/diaretdb1_v_1_1/ddb1_groundtruth/hardexudates\\image089.png\n"
     ]
    }
   ],
   "source": [
    "import numpy as np\n",
    "# Get a batch of training data\n",
    "batch = next(iter(Glaucoma_dataloader))\n",
    "inputs = batch['image']\n",
    "masks = batch['mask']"
   ]
  },
  {
   "cell_type": "code",
   "execution_count": null,
   "id": "deb041ab",
   "metadata": {},
   "outputs": [],
   "source": []
  }
 ],
 "metadata": {
  "kernelspec": {
   "display_name": "Python 3 (ipykernel)",
   "language": "python",
   "name": "python3"
  },
  "language_info": {
   "codemirror_mode": {
    "name": "ipython",
    "version": 3
   },
   "file_extension": ".py",
   "mimetype": "text/x-python",
   "name": "python",
   "nbconvert_exporter": "python",
   "pygments_lexer": "ipython3",
   "version": "3.11.2"
  }
 },
 "nbformat": 4,
 "nbformat_minor": 5
}
