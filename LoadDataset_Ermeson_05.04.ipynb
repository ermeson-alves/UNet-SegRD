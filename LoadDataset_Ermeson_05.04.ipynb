{
 "cells": [
  {
   "cell_type": "markdown",
   "id": "521b4836-a40f-4919-b0b5-0c648aa46510",
   "metadata": {},
   "source": [
    "# Data"
   ]
  },
  {
   "cell_type": "code",
   "execution_count": 1,
   "id": "0c82bc41",
   "metadata": {},
   "outputs": [
    {
     "name": "stderr",
     "output_type": "stream",
     "text": [
      "C:\\Users\\debora.assis\\Anaconda3\\lib\\site-packages\\torchvision\\io\\image.py:13: UserWarning: Failed to load image Python extension: [WinError 127] Não foi possível encontrar o procedimento especificado\n",
      "  warn(f\"Failed to load image Python extension: {e}\")\n"
     ]
    }
   ],
   "source": [
    "# https://www.analyticsvidhya.com/blog/2021/06/image-recognition-using-pytorch-lightning/\n",
    "# https://pytorch.org/tutorials/beginner/basics/data_tutorial.html\n",
    "import torchvision\n",
    "import torch\n",
    "import cv2\n",
    "import torchvision.transforms as transforms\n",
    "from torch.utils.data import Dataset, DataLoader\n",
    "import os\n",
    "from random import randint\n",
    "import albumentations as A\n",
    "from albumentations.pytorch import ToTensorV2"
   ]
  },
  {
   "cell_type": "markdown",
   "id": "8d063119",
   "metadata": {},
   "source": [
    "# Load dataset"
   ]
  },
  {
   "cell_type": "code",
   "execution_count": 2,
   "id": "6a46f4e1",
   "metadata": {},
   "outputs": [],
   "source": [
    "# Data train \n",
    "path_image = 'C:/Users/debora.assis/Documents/UNet-SegRD/diaretdb1_v_1_1/ddb1_fundusimages'\n",
    "path_mask = 'C:/Users/debora.assis/Documents/UNet-SegRD/diaretdb1_v_1_1/ddb1_groundtruth/hardexudates'\n",
    "img_list_train = os.listdir(os.path.join(path_image))"
   ]
  },
  {
   "cell_type": "code",
   "execution_count": 3,
   "id": "a0a82815",
   "metadata": {},
   "outputs": [],
   "source": [
    "transformations = {\n",
    "    'test': transforms.Compose([\n",
    "                        transforms.ToPILImage(),\n",
    "                        transforms.Resize((224,224)),\n",
    "#                         transforms.Grayscale(1),\n",
    "                        transforms.Normalize(mean=(0.485, 0.456, 0.406), std=(0.229, 0.224, 0.225)),\n",
    "                        transforms.ToTensor()]),\n",
    "     'train': transforms.Compose([\n",
    "                           transforms.ToPILImage(),\n",
    "                           transforms.Resize((224,224)),\n",
    "                           transforms.RandomRotation(degrees = 45),\n",
    "                           transforms.RandomHorizontalFlip(p = 0.005),\n",
    "                           transforms.Normalize(mean=(0.485, 0.456, 0.406), std=(0.229, 0.224, 0.225)),\n",
    "#                            transforms.Grayscale(1),\n",
    "                           transforms.ToTensor()\n",
    "                           ])\n",
    "}\n"
   ]
  },
  {
   "cell_type": "code",
   "execution_count": 4,
   "id": "da116de8",
   "metadata": {},
   "outputs": [],
   "source": [
    "\n",
    "class RD_SegmentationDataset(Dataset):\n",
    "    def __init__(self, img_list, image_dir, mask_dir, transform=None, target_transform=None):\n",
    "        \n",
    "        self.data_list = img_list\n",
    "        self.data_img = image_dir\n",
    "        self.data_mask = mask_dir\n",
    "        self.transform = transform\n",
    "        self.target_transform = target_transform\n",
    "\n",
    "    def __len__(self):\n",
    "        return len(self.data_img)\n",
    "\n",
    "    def __getitem__(self, idx):\n",
    "\n",
    "        path_image = os.path.join(self.data_img, self.data_list[idx])\n",
    "#         print(path_image)\n",
    "        image = cv2.imread(path_image)        \n",
    "        image = cv2.resize(image, (224,224))\n",
    "        image = torch.as_tensor(image, dtype=torch.uint8)\n",
    "        image = image.permute(2,0,1)\n",
    "\n",
    "        path_mask = os.path.join(self.data_mask, self.data_list[idx])\n",
    "#         print(path_mask)\n",
    "        mask = cv2.imread(path_mask,0)\n",
    "        mask = cv2.resize(mask, (224,224))\n",
    "        mask = cv2.threshold(mask, 240, 255, cv2.THRESH_BINARY)[1]\n",
    "        mask = mask/255\n",
    "        \n",
    "        mask = np.expand_dims(mask, 2)\n",
    "        mask = torch.as_tensor(mask, dtype=torch.uint8)\n",
    "        mask = mask.permute(2,0,1)\n",
    "\n",
    "        return {'image':image, 'mask':mask}\n",
    "    \n",
    "RD_dataset = RD_SegmentationDataset(img_list_train, path_image, path_mask, transformations['train'])\n",
    "RD_dataloader = DataLoader(RD_dataset, batch_size=4, shuffle=True)"
   ]
  },
  {
   "cell_type": "code",
   "execution_count": 5,
   "id": "627bcbb3",
   "metadata": {},
   "outputs": [],
   "source": [
    "import numpy as np\n",
    "# Get a batch of training data\n",
    "batch = next(iter(RD_dataloader))\n",
    "inputs = batch['image']\n",
    "masks = batch['mask']"
   ]
  },
  {
   "cell_type": "code",
   "execution_count": 6,
   "id": "8102562c",
   "metadata": {},
   "outputs": [
    {
     "data": {
      "text/plain": [
       "torch.Size([4, 3, 224, 224])"
      ]
     },
     "execution_count": 6,
     "metadata": {},
     "output_type": "execute_result"
    }
   ],
   "source": [
    "np.shape(inputs)"
   ]
  },
  {
   "cell_type": "code",
   "execution_count": null,
   "id": "982e64e8",
   "metadata": {},
   "outputs": [],
   "source": []
  },
  {
   "cell_type": "code",
   "execution_count": 7,
   "id": "a3250627",
   "metadata": {},
   "outputs": [],
   "source": [
    "import pytorch_lightning as pl\n",
    "class Model(pl.LightningModule):\n",
    "    def __init__(self, net, criterion, learning_rate, optimizer_class):\n",
    "        super().__init__()\n",
    "        self.lr = learning_rate\n",
    "        self.net = net\n",
    "        self.criterion = criterion\n",
    "        self.optimizer_class = optimizer_class\n",
    "\n",
    "    def configure_optimizers(self):\n",
    "        optimizer = self.optimizer_class(self.parameters(), lr=self.lr)\n",
    "        return optimizer\n",
    "\n",
    "    def prepare_batch(self, batch):\n",
    "        inputs = batch[\"image\"].float()\n",
    "        masks = batch[\"mask\"].float()\n",
    "        return inputs, masks\n",
    "#         return batch[\"image\"] , batch[\"mask\"]\n",
    "\n",
    "    def infer_batch(self, batch):\n",
    "        x, y = self.prepare_batch(batch)\n",
    "        y_hat = self.net(x)\n",
    "        return y_hat, y\n",
    "\n",
    "    def training_step(self, batch, batch_idx):\n",
    "        y_hat, y = self.infer_batch(batch)\n",
    "        loss = self.criterion(y_hat, y)\n",
    "        self.log(\"train_loss\", loss, prog_bar=True)\n",
    "        return loss\n",
    "\n",
    "    def validation_step(self, batch, batch_idx):\n",
    "        y_hat, y = self.infer_batch(batch)\n",
    "        loss = self.criterion(y_hat, y)\n",
    "        self.log(\"val_loss\", loss)\n",
    "        return loss"
   ]
  },
  {
   "cell_type": "code",
   "execution_count": 8,
   "id": "416a6f33",
   "metadata": {},
   "outputs": [
    {
     "name": "stderr",
     "output_type": "stream",
     "text": [
      "C:\\Users\\debora.assis\\Anaconda3\\lib\\site-packages\\pytorch_lightning\\trainer\\connectors\\accelerator_connector.py:447: LightningDeprecationWarning: Setting `Trainer(gpus=0)` is deprecated in v1.7 and will be removed in v2.0. Please use `Trainer(accelerator='gpu', devices=0)` instead.\n",
      "  rank_zero_deprecation(\n",
      "GPU available: False, used: False\n",
      "TPU available: False, using: 0 TPU cores\n",
      "IPU available: False, using: 0 IPUs\n",
      "HPU available: False, using: 0 HPUs\n"
     ]
    }
   ],
   "source": [
    "import monai\n",
    "\n",
    "unet = monai.networks.nets.UNet(\n",
    "    spatial_dims=2,\n",
    "    in_channels=3,\n",
    "    out_channels=1,\n",
    "    channels=(8, 16, 32,64),\n",
    "    strides=(2, 2, 2),\n",
    ")\n",
    "\n",
    "model = Model(\n",
    "    net=unet,\n",
    "    criterion=monai.losses.DiceCELoss(softmax=True),\n",
    "    learning_rate=1e-2,\n",
    "    optimizer_class=torch.optim.AdamW,\n",
    ")\n",
    "early_stopping = pl.callbacks.early_stopping.EarlyStopping(\n",
    "    monitor=\"train_loss\",\n",
    ")\n",
    "trainer = pl.Trainer(\n",
    "    gpus=0,\n",
    "#     precision='bf16',\n",
    "    callbacks=[early_stopping]\n",
    ")\n",
    "trainer.logger._default_hp_metric = False"
   ]
  },
  {
   "cell_type": "code",
   "execution_count": 9,
   "id": "edce5be8",
   "metadata": {},
   "outputs": [
    {
     "name": "stderr",
     "output_type": "stream",
     "text": [
      "C:\\Users\\debora.assis\\Anaconda3\\lib\\site-packages\\pytorch_lightning\\loops\\utilities.py:89: PossibleUserWarning: `max_epochs` was not set. Setting it to 1000 epochs. To train without an epoch limit, set `max_epochs=-1`.\n",
      "  rank_zero_warn(\n",
      "C:\\Users\\debora.assis\\Anaconda3\\lib\\site-packages\\pytorch_lightning\\trainer\\configuration_validator.py:107: PossibleUserWarning: You defined a `validation_step` but have no `val_dataloader`. Skipping val loop.\n",
      "  rank_zero_warn(\n",
      "\n",
      "  | Name      | Type       | Params\n",
      "-----------------------------------------\n",
      "0 | net       | UNet       | 40.8 K\n",
      "1 | criterion | DiceCELoss | 0     \n",
      "-----------------------------------------\n",
      "40.8 K    Trainable params\n",
      "0         Non-trainable params\n",
      "40.8 K    Total params\n",
      "0.163     Total estimated model params size (MB)\n"
     ]
    },
    {
     "name": "stdout",
     "output_type": "stream",
     "text": [
      "Training started at 2023-04-05 19:34:10.596196\n"
     ]
    },
    {
     "name": "stderr",
     "output_type": "stream",
     "text": [
      "C:\\Users\\debora.assis\\Anaconda3\\lib\\site-packages\\pytorch_lightning\\trainer\\connectors\\data_connector.py:236: PossibleUserWarning: The dataloader, train_dataloader, does not have many workers which may be a bottleneck. Consider increasing the value of the `num_workers` argument` (try 8 which is the number of cpus on this machine) in the `DataLoader` init to improve performance.\n",
      "  rank_zero_warn(\n",
      "C:\\Users\\debora.assis\\Anaconda3\\lib\\site-packages\\pytorch_lightning\\trainer\\trainer.py:1892: PossibleUserWarning: The number of training batches (19) is smaller than the logging interval Trainer(log_every_n_steps=50). Set a lower value for log_every_n_steps if you want to see logs for the training epoch.\n",
      "  rank_zero_warn(\n"
     ]
    },
    {
     "data": {
      "application/vnd.jupyter.widget-view+json": {
       "model_id": "54c272e1d95c4da3a7d2173742342457",
       "version_major": 2,
       "version_minor": 0
      },
      "text/plain": [
       "Training: 0it [00:00, ?it/s]"
      ]
     },
     "metadata": {},
     "output_type": "display_data"
    },
    {
     "name": "stderr",
     "output_type": "stream",
     "text": [
      "C:\\Users\\debora.assis\\Anaconda3\\lib\\site-packages\\monai\\losses\\dice.py:138: UserWarning: single channel prediction, `softmax=True` ignored.\n",
      "  warnings.warn(\"single channel prediction, `softmax=True` ignored.\")\n"
     ]
    },
    {
     "name": "stdout",
     "output_type": "stream",
     "text": [
      "Training duration: 0:00:29.630093\n"
     ]
    }
   ],
   "source": [
    "from datetime import datetime\n",
    "\n",
    "train_loader = DataLoader(RD_dataset, batch_size=4, shuffle=True)\n",
    "\n",
    "start = datetime.now()\n",
    "print(\"Training started at\", start)\n",
    "trainer.fit(model=model, train_dataloaders=train_loader)\n",
    "\n",
    "print(\"Training duration:\", datetime.now() - start)"
   ]
  },
  {
   "cell_type": "code",
   "execution_count": null,
   "id": "0204223c",
   "metadata": {},
   "outputs": [],
   "source": []
  }
 ],
 "metadata": {
  "kernelspec": {
   "display_name": "Python 3",
   "language": "python",
   "name": "python3"
  },
  "language_info": {
   "codemirror_mode": {
    "name": "ipython",
    "version": 3
   },
   "file_extension": ".py",
   "mimetype": "text/x-python",
   "name": "python",
   "nbconvert_exporter": "python",
   "pygments_lexer": "ipython3",
   "version": "3.8.8"
  }
 },
 "nbformat": 4,
 "nbformat_minor": 5
}
