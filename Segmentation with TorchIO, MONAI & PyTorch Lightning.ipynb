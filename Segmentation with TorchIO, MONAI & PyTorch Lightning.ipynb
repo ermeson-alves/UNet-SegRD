{
 "cells": [
  {
   "cell_type": "code",
   "execution_count": null,
   "id": "d5517211-a11e-4c72-a666-b7376fe87245",
   "metadata": {
    "tags": []
   },
   "outputs": [],
   "source": [
    "from datetime import datetime\n",
    "import os\n",
    "from pathlib import Path\n",
    "import tempfile\n",
    "from glob import glob\n",
    "\n",
    "import torch\n",
    "from torch.utils.data import random_split, DataLoader\n",
    "import monai\n",
    "import pandas as pd\n",
    "import torchio as tio\n",
    "import pytorch_lightning as pl\n",
    "import matplotlib.pyplot as plt\n",
    "import seaborn as sns\n",
    "\n",
    "monai.config.print_config()"
   ]
  },
  {
   "attachments": {},
   "cell_type": "markdown",
   "id": "a2b95f6c",
   "metadata": {},
   "source": [
    "# Configurations and Tensorboard Setup"
   ]
  },
  {
   "cell_type": "code",
   "execution_count": 2,
   "id": "12288d03-5918-4bd4-85d9-6fccbc071ad0",
   "metadata": {
    "tags": []
   },
   "outputs": [],
   "source": [
    "sns.set()\n",
    "plt.rcParams[\"figure.figsize\"] = 12, 8\n",
    "monai.utils.set_determinism()\n",
    "\n",
    "%load_ext tensorboard"
   ]
  },
  {
   "attachments": {},
   "cell_type": "markdown",
   "id": "737d2b67",
   "metadata": {},
   "source": [
    "# Setup Data Directory"
   ]
  },
  {
   "cell_type": "code",
   "execution_count": 3,
   "id": "4d468a2b-acad-4712-87a3-0e08ae7e0ee5",
   "metadata": {
    "tags": []
   },
   "outputs": [
    {
     "name": "stdout",
     "output_type": "stream",
     "text": [
      "C:\\Users\\LESC\\AppData\\Local\\Temp\\tmpufciwlvz\n"
     ]
    }
   ],
   "source": [
    "directory = os.environ.get(\"MONAI_DATA_DIRECTORY\")\n",
    "root_dir = tempfile.mkdtemp() if directory is None else directory\n",
    "print(root_dir)"
   ]
  },
  {
   "cell_type": "markdown",
   "id": "521b4836-a40f-4919-b0b5-0c648aa46510",
   "metadata": {},
   "source": [
    "# Data"
   ]
  },
  {
   "cell_type": "code",
   "execution_count": null,
   "id": "da116de8",
   "metadata": {},
   "outputs": [],
   "source": [
    "# Funções para ler imagens e adaptar o conjunto de dados Diaretdb1\n",
    "def pil_loader(image_path,is_mask=False):\n",
    "    with open(image_path, 'rb') as f:\n",
    "        img = Image.open(f)\n",
    "        h, w = img.size\n",
    "        if not is_mask:\n",
    "            return img.resize((h//2, w//2)).convert('RGB')\n",
    "            # return img.convert('RGB')\n",
    "        else:\n",
    "            return img.resize((h//2, w//2)).convert('L')\n",
    "            # return img.convert('L')\n",
    "\n",
    "\n",
    "def create_dir(path:Path):\n",
    "    if not path.exists():\n",
    "        if not path.parent.exists():\n",
    "            create_dir(path.parent)\n",
    "        path.mkdir()\n",
    "\n",
    "\n",
    "def adaptar_dataset(root_dir: Path, dir_fundus_imgs: Path, dir_groundtruths_imgs: Path, annotations_path: Path):\n",
    "    \"\"\"Com base nos arquivos de anotações .txt do dataset diaretdb1_v1.1, essa função cria uma divisão melhor das\n",
    "    imagens em TESTSET e TRAINSET para facilitar futuras utilizações desses dados\"\"\"\n",
    "\n",
    "    path_base = Path(root_dir/str(annotations_path.stem).upper())\n",
    "    create_dir(path_base/dir_fundus_imgs.name)\n",
    "    labels = pd.read_csv(annotations_path, header=None).sort_values(by=0, ascending=True)\n",
    "    print(\"Nova pasta com fundoscopias criada.\")\n",
    "    for dir_masks in ['hardexudates', 'hemorrhages', 'redsmalldots', 'softexudates']:\n",
    "        create_dir(path_base/'ddb1_groundtruth'/dir_masks)\n",
    "\n",
    "        for label in labels[0]:\n",
    "            # Salvar a imagem correspondente das anotações na pasta de fundoscopias:\n",
    "            img_fundus = pil_loader(dir_fundus_imgs/label)\n",
    "            img_fundus.save(path_base/dir_fundus_imgs.name/label)\n",
    "            # Salvar a mascara:\n",
    "            mask = pil_loader(dir_groundtruths_imgs/dir_masks/label)\n",
    "            mask.save(path_base/'ddb1_groundtruth'/dir_masks/label)\n",
    "        print(\"Nova pasta com mascaras de lesões criada.\")"
   ]
  },
  {
   "cell_type": "code",
   "execution_count": 4,
   "id": "a3c7d875-4eba-4fe5-ac89-efe61e657587",
   "metadata": {
    "tags": []
   },
   "outputs": [],
   "source": [
    "class MedicalDecathlonDataModule(pl.LightningDataModule):\n",
    "    def __init__(self, task, batch_size, train_val_ratio):\n",
    "        super().__init__()\n",
    "        self.task = task\n",
    "        self.batch_size = batch_size\n",
    "        self.base_dir = root_dir\n",
    "        self.dataset_dir = os.path.join(root_dir, task)\n",
    "        self.train_val_ratio = train_val_ratio\n",
    "        self.subjects = None\n",
    "        self.test_subjects = None\n",
    "        self.preprocess = None\n",
    "        self.transform = None\n",
    "        self.train_set = None\n",
    "        self.val_set = None\n",
    "        self.test_set = None\n",
    "\n",
    "    def download_data(self):\n",
    "        if not os.path.isdir(self.dataset_dir):\n",
    "            url = \"https://www.it.lut.fi/project/imageret/diaretdb1/diaretdb1_v_1_1.zip\"\n",
    "            monai.apps.download_and_extract(url, output_dir=\"./datasets\")\n",
    "        \n",
    "        image_training_paths = sorted(glob(os.path.join(self.dataset_dir, \"imagesTr\", \"*.nii*\")))\n",
    "        label_training_paths = sorted(glob(os.path.join(self.dataset_dir, \"labelsTr\", \"*.nii*\")))\n",
    "        image_test_paths = sorted(glob(os.path.join(self.dataset_dir, \"imagesTs\", \"*.nii*\")))\n",
    "        return image_training_paths, label_training_paths, image_test_paths\n",
    "\n",
    "    def prepare_data(self):\n",
    "        image_training_paths, label_training_paths, image_test_paths = self.download_data()\n",
    "\n",
    "        self.subjects = []\n",
    "        for image_path, label_path in zip(image_training_paths, label_training_paths):\n",
    "            # 'image' and 'label' are arbitrary names for the images\n",
    "            subject = tio.Subject(image=tio.ScalarImage(image_path), label=tio.LabelMap(label_path))\n",
    "            self.subjects.append(subject)\n",
    "\n",
    "        self.test_subjects = []\n",
    "        for image_path in image_test_paths:\n",
    "            subject = tio.Subject(image=tio.ScalarImage(image_path))\n",
    "            self.test_subjects.append(subject)\n",
    "\n",
    "    def get_preprocessing_transform(self):\n",
    "        preprocess = tio.Compose(\n",
    "            [\n",
    "                tio.RescaleIntensity((-1, 1)),\n",
    "                tio.CropOrPad(self.get_max_shape(self.subjects + self.test_subjects)),\n",
    "                tio.EnsureShapeMultiple(8),  # for the U-Net\n",
    "                tio.OneHot(),\n",
    "            ]\n",
    "        )\n",
    "        return preprocess\n",
    "\n",
    "    def get_augmentation_transform(self):\n",
    "        augment = tio.Compose(\n",
    "            [\n",
    "                tio.RandomAffine(),\n",
    "                tio.RandomGamma(p=0.5),\n",
    "                tio.RandomNoise(p=0.5),\n",
    "                tio.RandomMotion(p=0.1),\n",
    "                tio.RandomBiasField(p=0.25),\n",
    "            ]\n",
    "        )\n",
    "        return augment\n",
    "\n",
    "    def setup(self, stage=None):\n",
    "        num_subjects = len(self.subjects)\n",
    "        num_train_subjects = int(round(num_subjects * self.train_val_ratio))\n",
    "        num_val_subjects = num_subjects - num_train_subjects\n",
    "        splits = num_train_subjects, num_val_subjects\n",
    "        train_subjects, val_subjects = random_split(self.subjects, splits)\n",
    "\n",
    "        self.preprocess = self.get_preprocessing_transform()\n",
    "        augment = self.get_augmentation_transform()\n",
    "        self.transform = tio.Compose([self.preprocess, augment])\n",
    "\n",
    "        self.train_set = tio.SubjectsDataset(train_subjects, transform=self.transform)\n",
    "        self.val_set = tio.SubjectsDataset(val_subjects, transform=self.preprocess)\n",
    "        self.test_set = tio.SubjectsDataset(self.test_subjects, transform=self.preprocess)\n",
    "\n",
    "    def train_dataloader(self):\n",
    "        return DataLoader(self.train_set, self.batch_size, num_workers=2)\n",
    "\n",
    "    def val_dataloader(self):\n",
    "        return DataLoader(self.val_set, self.batch_size, num_workers=2)\n",
    "\n",
    "    def test_dataloader(self):\n",
    "        return DataLoader(self.test_set, self.batch_size, num_workers=2)"
   ]
  },
  {
   "cell_type": "code",
   "execution_count": 5,
   "id": "082a2479-53b1-4df1-81fa-3150b1a5f8d0",
   "metadata": {
    "tags": []
   },
   "outputs": [
    {
     "name": "stderr",
     "output_type": "stream",
     "text": [
      "Task04_Hippocampus.tar: 27.1MB [00:15, 1.88MB/s]                                                                                                                                       "
     ]
    },
    {
     "name": "stdout",
     "output_type": "stream",
     "text": [
      "2023-03-23 14:09:32,273 - INFO - Downloaded: C:\\Users\\LESC\\AppData\\Local\\Temp\\tmpp7lydt4n\\Task04_Hippocampus.tar\n"
     ]
    },
    {
     "name": "stderr",
     "output_type": "stream",
     "text": [
      "\n"
     ]
    },
    {
     "name": "stdout",
     "output_type": "stream",
     "text": [
      "2023-03-23 14:09:32,274 - INFO - Expected md5 is None, skip md5 check for file C:\\Users\\LESC\\AppData\\Local\\Temp\\tmpp7lydt4n\\Task04_Hippocampus.tar.\n",
      "2023-03-23 14:09:32,275 - INFO - Writing into directory: C:\\Users\\LESC\\AppData\\Local\\Temp\\tmpufciwlvz.\n",
      "Training:   208\n",
      "Validation:  52\n",
      "Test:       130\n"
     ]
    }
   ],
   "source": [
    "data = MedicalDecathlonDataModule(\n",
    "    task=\"Task04_Hippocampus\",\n",
    "    batch_size=16,\n",
    "    train_val_ratio=0.8,\n",
    ")\n",
    "\n",
    "data.prepare_data()\n",
    "data.setup()\n",
    "print(\"Training:  \", len(data.train_set))\n",
    "print(\"Validation: \", len(data.val_set))\n",
    "print(\"Test:      \", len(data.test_set))"
   ]
  },
  {
   "attachments": {},
   "cell_type": "markdown",
   "id": "77e82b04",
   "metadata": {},
   "source": [
    "# Lightning model"
   ]
  },
  {
   "cell_type": "code",
   "execution_count": 6,
   "id": "8458665c-5f2b-4d52-82d4-87f406ac3ca1",
   "metadata": {
    "tags": []
   },
   "outputs": [],
   "source": [
    "class Model(pl.LightningModule):\n",
    "    def __init__(self, net, criterion, learning_rate, optimizer_class):\n",
    "        super().__init__()\n",
    "        self.lr = learning_rate\n",
    "        self.net = net\n",
    "        self.criterion = criterion\n",
    "        self.optimizer_class = optimizer_class\n",
    "\n",
    "    def configure_optimizers(self):\n",
    "        optimizer = self.optimizer_class(self.parameters(), lr=self.lr)\n",
    "        return optimizer\n",
    "\n",
    "    def prepare_batch(self, batch):\n",
    "        return batch[\"image\"][tio.DATA], batch[\"label\"][tio.DATA]\n",
    "\n",
    "    def infer_batch(self, batch):\n",
    "        x, y = self.prepare_batch(batch)\n",
    "        y_hat = self.net(x)\n",
    "        return y_hat, y\n",
    "\n",
    "    def training_step(self, batch, batch_idx):\n",
    "        y_hat, y = self.infer_batch(batch)\n",
    "        loss = self.criterion(y_hat, y)\n",
    "        self.log(\"train_loss\", loss, prog_bar=True)\n",
    "        return loss\n",
    "\n",
    "    def validation_step(self, batch, batch_idx):\n",
    "        y_hat, y = self.infer_batch(batch)\n",
    "        loss = self.criterion(y_hat, y)\n",
    "        self.log(\"val_loss\", loss)\n",
    "        return loss"
   ]
  },
  {
   "cell_type": "code",
   "execution_count": 7,
   "id": "b46cfb97-3485-4fc0-8cf3-23a494650d36",
   "metadata": {
    "tags": []
   },
   "outputs": [
    {
     "name": "stderr",
     "output_type": "stream",
     "text": [
      "Using bfloat16 Automatic Mixed Precision (AMP)\n",
      "GPU available: False, used: False\n",
      "TPU available: False, using: 0 TPU cores\n",
      "IPU available: False, using: 0 IPUs\n"
     ]
    }
   ],
   "source": [
    "unet = monai.networks.nets.UNet(\n",
    "    spatial_dims=3,\n",
    "    in_channels=1,\n",
    "    out_channels=3,\n",
    "    channels=(8, 16, 32, 64),\n",
    "    strides=(2, 2, 2),\n",
    ")\n",
    "\n",
    "model = Model(\n",
    "    net=unet,\n",
    "    criterion=monai.losses.DiceCELoss(softmax=True),\n",
    "    learning_rate=1e-2,\n",
    "    optimizer_class=torch.optim.AdamW,\n",
    ")\n",
    "early_stopping = pl.callbacks.early_stopping.EarlyStopping(\n",
    "    monitor=\"val_loss\",\n",
    ")\n",
    "trainer = pl.Trainer(\n",
    "    gpus=0,\n",
    "    precision='bf16',\n",
    "    callbacks=[early_stopping],\n",
    ")\n",
    "trainer.logger._default_hp_metric = False"
   ]
  },
  {
   "attachments": {},
   "cell_type": "markdown",
   "id": "5819b713",
   "metadata": {},
   "source": [
    "# Training"
   ]
  },
  {
   "cell_type": "code",
   "execution_count": null,
   "id": "9fdbe858-fb6e-4a44-9137-3693b1774e4b",
   "metadata": {
    "tags": []
   },
   "outputs": [],
   "source": [
    "start = datetime.now()\n",
    "print(\"Training started at\", start)\n",
    "trainer.fit(model=model, datamodule=data)\n",
    "print(\"Training duration:\", datetime.now() - start)"
   ]
  },
  {
   "cell_type": "code",
   "execution_count": null,
   "id": "351cbd45-c687-43fb-b3be-f2327991dfdc",
   "metadata": {},
   "outputs": [],
   "source": [
    "%tensorboard --logdir lightning_logs"
   ]
  },
  {
   "attachments": {},
   "cell_type": "markdown",
   "id": "641b4e32",
   "metadata": {},
   "source": [
    "# Plot validation results"
   ]
  },
  {
   "cell_type": "code",
   "execution_count": 13,
   "id": "87190bea-0e06-4eee-8389-c7798780c84d",
   "metadata": {
    "tags": []
   },
   "outputs": [],
   "source": [
    "model.to(\"cpu\")\n",
    "all_dices = []\n",
    "get_dice = monai.metrics.DiceMetric(include_background=False, reduction=\"none\")\n",
    "with torch.no_grad():\n",
    "    for batch in data.val_dataloader():\n",
    "        inputs, targets = model.prepare_batch(batch)\n",
    "        logits = model.net(inputs.to(model.device))\n",
    "        labels = logits.argmax(dim=1)\n",
    "        labels_one_hot = torch.nn.functional.one_hot(labels).permute(0, 4, 1, 2, 3)\n",
    "        get_dice(labels_one_hot.to(model.device), targets.to(model.device))\n",
    "    metric = get_dice.aggregate()\n",
    "    get_dice.reset()\n",
    "    all_dices.append(metric)\n",
    "all_dices = torch.cat(all_dices)"
   ]
  },
  {
   "cell_type": "code",
   "execution_count": null,
   "id": "281d433d-5480-445a-9ceb-5aef83ad5d35",
   "metadata": {
    "tags": []
   },
   "outputs": [],
   "source": [
    "records = []\n",
    "for ant, post in all_dices:\n",
    "    records.append({\"Dice\": ant, \"Label\": \"Anterior\"})\n",
    "    records.append({\"Dice\": post, \"Label\": \"Posterior\"})\n",
    "df = pd.DataFrame.from_records(records)\n",
    "ax = sns.stripplot(x=\"Label\", y=\"Dice\", data=df, size=10, alpha=0.5)\n",
    "ax.set_title(\"Dice scores\")"
   ]
  },
  {
   "attachments": {},
   "cell_type": "markdown",
   "id": "7a07dcd4",
   "metadata": {},
   "source": [
    "# Test"
   ]
  },
  {
   "cell_type": "code",
   "execution_count": 15,
   "id": "171746d2-050c-4456-b6de-afa5c652306b",
   "metadata": {
    "tags": []
   },
   "outputs": [],
   "source": [
    "with torch.no_grad():\n",
    "    for batch in data.test_dataloader():\n",
    "        inputs = batch[\"image\"][tio.DATA].to(model.device)\n",
    "        labels = model.net(inputs).argmax(dim=1, keepdim=True).cpu()\n",
    "        break\n",
    "batch_subjects = tio.utils.get_subjects_from_batch(batch)\n",
    "tio.utils.add_images_from_batch(batch_subjects, labels, tio.LabelMap)"
   ]
  },
  {
   "cell_type": "code",
   "execution_count": null,
   "id": "c1e620f8-90bf-463a-91be-856c0608f7e7",
   "metadata": {
    "tags": []
   },
   "outputs": [],
   "source": [
    "for subject in batch_subjects:\n",
    "    subject.plot()"
   ]
  },
  {
   "cell_type": "code",
   "execution_count": null,
   "id": "a16c6051-972d-491f-9fbf-88d3075ffa02",
   "metadata": {},
   "outputs": [],
   "source": []
  }
 ],
 "metadata": {
  "kernelspec": {
   "display_name": "Python 3 (ipykernel)",
   "language": "python",
   "name": "python3"
  },
  "language_info": {
   "codemirror_mode": {
    "name": "ipython",
    "version": 3
   },
   "file_extension": ".py",
   "mimetype": "text/x-python",
   "name": "python",
   "nbconvert_exporter": "python",
   "pygments_lexer": "ipython3",
   "version": "3.9.12"
  }
 },
 "nbformat": 4,
 "nbformat_minor": 5
}
