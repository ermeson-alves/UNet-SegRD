{
 "cells": [
  {
   "cell_type": "markdown",
   "id": "252d3284",
   "metadata": {},
   "source": []
  },
  {
   "attachments": {},
   "cell_type": "markdown",
   "id": "ee1ebe92",
   "metadata": {},
   "source": [
    "# Setup Enviroment"
   ]
  },
  {
   "cell_type": "code",
   "execution_count": 1,
   "id": "ff336f91",
   "metadata": {},
   "outputs": [],
   "source": [
    "!python -c \"import monai\" || pip install -q \"monai-weekly\"\n",
    "!pip install -q torch==1.10.2 torchtext==0.11.2 torchvision==0.11.3\n",
    "!pip install -q torchio==0.18.73\n",
    "!pip install -q pytorch-lightning==1.5.10\n",
    "!pip install -q pandas==1.1.5 seaborn==0.11.1\n",
    "!pip install -q pillow==9.4.0"
   ]
  },
  {
   "cell_type": "code",
   "execution_count": 50,
   "id": "d5517211-a11e-4c72-a666-b7376fe87245",
   "metadata": {
    "tags": []
   },
   "outputs": [
    {
     "name": "stdout",
     "output_type": "stream",
     "text": [
      "MONAI version: 1.2.dev2312\n",
      "Numpy version: 1.24.2\n",
      "Pytorch version: 1.10.2+cpu\n",
      "MONAI flags: HAS_EXT = False, USE_COMPILED = False, USE_META_DICT = False\n",
      "MONAI rev id: 400a6a052f1b2925db6f1323a67a7cf4546403eb\n",
      "MONAI __file__: c:\\Users\\LESC\\Desktop\\UNet-SegRD\\lesc-env\\lib\\site-packages\\monai\\__init__.py\n",
      "\n",
      "Optional dependencies:\n",
      "Pytorch Ignite version: NOT INSTALLED or UNKNOWN VERSION.\n",
      "ITK version: NOT INSTALLED or UNKNOWN VERSION.\n",
      "Nibabel version: 5.0.1\n",
      "scikit-image version: 0.20.0\n",
      "Pillow version: 9.4.0\n",
      "Tensorboard version: 2.12.0\n",
      "gdown version: NOT INSTALLED or UNKNOWN VERSION.\n",
      "TorchVision version: 0.11.3+cpu\n",
      "tqdm version: 4.65.0\n",
      "lmdb version: NOT INSTALLED or UNKNOWN VERSION.\n",
      "psutil version: 5.9.4\n",
      "pandas version: 1.1.5\n",
      "einops version: NOT INSTALLED or UNKNOWN VERSION.\n",
      "transformers version: NOT INSTALLED or UNKNOWN VERSION.\n",
      "mlflow version: NOT INSTALLED or UNKNOWN VERSION.\n",
      "pynrrd version: NOT INSTALLED or UNKNOWN VERSION.\n",
      "\n",
      "For details about installing the optional dependencies, please visit:\n",
      "    https://docs.monai.io/en/latest/installation.html#installing-the-recommended-dependencies\n",
      "\n"
     ]
    }
   ],
   "source": [
    "from datetime import datetime\n",
    "import os\n",
    "from pathlib import Path\n",
    "import tempfile\n",
    "from glob import glob\n",
    "\n",
    "import torch\n",
    "from torch.utils.data import random_split, DataLoader\n",
    "import monai\n",
    "import pandas as pd\n",
    "import torchio as tio\n",
    "import pytorch_lightning as pl\n",
    "import matplotlib.pyplot as plt\n",
    "import seaborn as sns\n",
    "\n",
    "from PIL import Image\n",
    "from config import *\n",
    "import albumentations as A\n",
    "monai.config.print_config()\n",
    "import numpy as np"
   ]
  },
  {
   "attachments": {},
   "cell_type": "markdown",
   "id": "a2b95f6c",
   "metadata": {},
   "source": [
    "# Configurations and Tensorboard Setup"
   ]
  },
  {
   "cell_type": "code",
   "execution_count": 2,
   "id": "12288d03-5918-4bd4-85d9-6fccbc071ad0",
   "metadata": {
    "tags": []
   },
   "outputs": [],
   "source": [
    "sns.set()\n",
    "plt.rcParams[\"figure.figsize\"] = 12, 8\n",
    "monai.utils.set_determinism()\n",
    "\n",
    "%load_ext tensorboard"
   ]
  },
  {
   "attachments": {},
   "cell_type": "markdown",
   "id": "737d2b67",
   "metadata": {},
   "source": [
    "# Setup Data Directory"
   ]
  },
  {
   "cell_type": "code",
   "execution_count": 23,
   "id": "4d468a2b-acad-4712-87a3-0e08ae7e0ee5",
   "metadata": {
    "tags": []
   },
   "outputs": [
    {
     "name": "stdout",
     "output_type": "stream",
     "text": [
      "./datasets/diaretdb1_v_1_1\n"
     ]
    }
   ],
   "source": [
    "# directory = os.environ.get(\"MONAI_DATA_DIRECTORY\")\n",
    "# dataset_dir = tempfile.mkdtemp() if directory is None else directory\n",
    "# print(dataset_dir)\n",
    "\n",
    "dataset_dir = \"./datasets/diaretdb1_v_1_1\"\n",
    "print(dataset_dir)"
   ]
  },
  {
   "cell_type": "markdown",
   "id": "521b4836-a40f-4919-b0b5-0c648aa46510",
   "metadata": {},
   "source": [
    "# Data"
   ]
  },
  {
   "cell_type": "code",
   "execution_count": 51,
   "id": "da116de8",
   "metadata": {},
   "outputs": [],
   "source": [
    "# Funções para ler imagens e adaptar o conjunto de dados Diaretdb1\n",
    "def pil_loader(image_path,is_mask=False):\n",
    "    with open(image_path, 'rb') as f:\n",
    "        img = Image.open(f)\n",
    "        h, w = img.size\n",
    "        if not is_mask:\n",
    "            return img.resize((h//2, w//2)).convert('RGB')\n",
    "            # return img.convert('RGB')\n",
    "        else:\n",
    "            return img.resize((h//2, w//2)).convert('L')\n",
    "            # return img.convert('L')\n",
    "\n",
    "\n",
    "def create_dir(path:Path):\n",
    "    if not path.exists():\n",
    "        if not path.parent.exists():\n",
    "            create_dir(path.parent)\n",
    "        path.mkdir()\n",
    "\n",
    "\n",
    "def adaptar_dataset(root_dir: Path, dir_fundus_imgs: Path, dir_groundtruths_imgs: Path, annotations_path: Path):\n",
    "    \"\"\"Com base nos arquivos de anotações .txt do dataset diaretdb1_v1.1, essa função cria uma divisão melhor das\n",
    "    imagens em TESTSET e TRAINSET para facilitar futuras utilizações desses dados\"\"\"\n",
    "\n",
    "    path_base = Path(root_dir/str(annotations_path.stem).upper())\n",
    "    create_dir(path_base/dir_fundus_imgs.name)\n",
    "    labels = pd.read_csv(annotations_path, header=None).sort_values(by=0, ascending=True)\n",
    "    for dir_masks in ['hardexudates', 'hemorrhages', 'redsmalldots', 'softexudates']:\n",
    "        create_dir(path_base/'ddb1_groundtruth'/dir_masks)\n",
    "\n",
    "        for label in labels[0]:\n",
    "            # Salvar a imagem correspondente das anotações na pasta de fundoscopias:\n",
    "            img_fundus = pil_loader(dir_fundus_imgs/label)\n",
    "            img_fundus.save(path_base/dir_fundus_imgs.name/label)\n",
    "            # Salvar a mascara:\n",
    "            mask = pil_loader(dir_groundtruths_imgs/dir_masks/label)\n",
    "            mask.save(path_base/'ddb1_groundtruth'/dir_masks/label)\n",
    "    print(f\"Novo diretório {root_dir.name}/{annotations_path.stem} criado.\")"
   ]
  },
  {
   "cell_type": "code",
   "execution_count": 59,
   "id": "a3c7d875-4eba-4fe5-ac89-efe61e657587",
   "metadata": {
    "tags": []
   },
   "outputs": [],
   "source": [
    "class MedicalDecathlonDataModule(pl.LightningDataModule):\n",
    "    def __init__(self, dataset_dir, batch_size, train_val_ratio, lesion):\n",
    "        '''\n",
    "        dataset_dir: os.path.join para a pasta raiz do dataset\n",
    "        lesion: EX: hardexsudates, HE: hemorrhages, MA: microaneurysms, SE\n",
    "        '''\n",
    "        super().__init__()\n",
    "        self.batch_size = batch_size\n",
    "        self.dataset_dir = dataset_dir\n",
    "        self.lesion = lesion\n",
    "        self.train_val_ratio = train_val_ratio\n",
    "        self.subjects = None\n",
    "        self.test_subjects = None\n",
    "        self.preprocess = None\n",
    "        self.transform = None\n",
    "        self.train_set = None\n",
    "        self.val_set = None\n",
    "        self.test_set = None\n",
    "\n",
    "    def download_data(self):\n",
    "        if not os.path.isdir(self.dataset_dir):\n",
    "            url = \"https://www.it.lut.fi/project/imageret/diaretdb1/diaretdb1_v_1_1.zip\"\n",
    "            monai.apps.download_and_extract(url, output_dir=\"./datasets\")\n",
    "            # TESTSET:\n",
    "            adaptar_dataset(ROOT_DATASET_PATH, IMGS_FUNDUS_PATH, MASKS_DIR_PATH, ANNOTATIONS_TEST_PATH)\n",
    "            # TRAINSET:\n",
    "            adaptar_dataset(ROOT_DATASET_PATH, IMGS_FUNDUS_PATH, MASKS_DIR_PATH, ANNOTATIONS_TRAIN_PATH)\n",
    "\n",
    "        mask_dir = sorted(os.listdir(os.path.join(self.dataset_dir, \"TRAINSET\", \"ddb1_groundtruth\")))[LESIONS[self.lesion]]\n",
    "\n",
    "        image_training_paths = sorted(glob(os.path.join(self.dataset_dir, \"TRAINSET\", \"ddb1_fundusimages\", \"*.png\")))\n",
    "        label_training_paths = sorted(glob(os.path.join(self.dataset_dir, \"TRAINSET\", \"ddb1_groundtruth\", mask_dir, \"*.png\")))\n",
    "        image_test_paths = sorted(glob(os.path.join(self.dataset_dir, \"TESTSET\", \"ddb1_fundusimages\", \"*.png*\")))\n",
    "        return image_training_paths, label_training_paths, image_test_paths\n",
    "\n",
    "    def prepare_data(self):\n",
    "        '''como baixar, tokenizar, etc…'''\n",
    "        image_training_paths, label_training_paths, image_test_paths = self.download_data()\n",
    "\n",
    "        self.subjects = []\n",
    "        for image_path, label_path in zip(image_training_paths, label_training_paths):\n",
    "            # 'image' and 'label' are arbitrary names for the images\n",
    "            subject = tio.Subject(image=tio.ScalarImage(image_path), label=tio.LabelMap(label_path))\n",
    "            self.subjects.append(subject)\n",
    "\n",
    "        self.test_subjects = []\n",
    "        for image_path in image_test_paths:\n",
    "            subject = tio.Subject(image=tio.ScalarImage(image_path))\n",
    "            self.test_subjects.append(subject)\n",
    "\n",
    "    def get_preprocessing_transform(self):\n",
    "        preprocess = tio.Compose(\n",
    "            [\n",
    "                tio.RescaleIntensity((-1, 1)),\n",
    "                # tio.CropOrPad(self.get_max_shape(self.subjects + self.test_subjects)),\n",
    "                tio.EnsureShapeMultiple(8),  # for the U-Net\n",
    "                tio.OneHot(),\n",
    "            ]\n",
    "        )\n",
    "        return preprocess\n",
    "\n",
    "    def get_augmentation_transform(self):\n",
    "        augment = tio.Compose(\n",
    "            [\n",
    "                tio.RandomAffine(),\n",
    "                tio.RandomGamma(p=0.5),\n",
    "                tio.RandomNoise(p=0.5),\n",
    "                tio.RandomMotion(p=0.1),\n",
    "                tio.RandomBiasField(p=0.25),\n",
    "            ]\n",
    "        )\n",
    "        return augment\n",
    " \n",
    "\n",
    "    def setup(self, stage=None):\n",
    "        num_subjects = len(self.subjects)\n",
    "        num_train_subjects = int(round(num_subjects * self.train_val_ratio))\n",
    "        num_val_subjects = num_subjects - num_train_subjects\n",
    "        splits = num_train_subjects, num_val_subjects\n",
    "        train_subjects, val_subjects = random_split(self.subjects, splits)\n",
    "\n",
    "        self.preprocess = self.get_preprocessing_transform()\n",
    "        augment = self.get_augmentation_transform()\n",
    "        self.transform = tio.Compose([self.preprocess, augment])\n",
    "\n",
    "        self.train_set = tio.SubjectsDataset(train_subjects, transform=self.transform)\n",
    "        self.val_set = tio.SubjectsDataset(val_subjects, transform=self.preprocess)\n",
    "        self.test_set = tio.SubjectsDataset(self.test_subjects, transform=self.preprocess)\n",
    "\n",
    "    def train_dataloader(self):\n",
    "        return DataLoader(self.train_set, self.batch_size, num_workers=2)\n",
    "\n",
    "    def val_dataloader(self):\n",
    "        return DataLoader(self.val_set, self.batch_size, num_workers=2)\n",
    "\n",
    "    def test_dataloader(self):\n",
    "        return DataLoader(self.test_set, self.batch_size, num_workers=2)"
   ]
  },
  {
   "cell_type": "code",
   "execution_count": 60,
   "id": "082a2479-53b1-4df1-81fa-3150b1a5f8d0",
   "metadata": {
    "tags": []
   },
   "outputs": [
    {
     "name": "stdout",
     "output_type": "stream",
     "text": [
      "Training:   22\n",
      "Validation:  6\n",
      "Test:       61\n"
     ]
    },
    {
     "ename": "RuntimeError",
     "evalue": "Caught RuntimeError in DataLoader worker process 0.\nOriginal Traceback (most recent call last):\n  File \"c:\\Users\\LESC\\Desktop\\UNet-SegRD\\lesc-env\\lib\\site-packages\\torch\\utils\\data\\_utils\\worker.py\", line 287, in _worker_loop\n    data = fetcher.fetch(index)\n  File \"c:\\Users\\LESC\\Desktop\\UNet-SegRD\\lesc-env\\lib\\site-packages\\torch\\utils\\data\\_utils\\fetch.py\", line 49, in fetch\n    data = [self.dataset[idx] for idx in possibly_batched_index]\n  File \"c:\\Users\\LESC\\Desktop\\UNet-SegRD\\lesc-env\\lib\\site-packages\\torch\\utils\\data\\_utils\\fetch.py\", line 49, in <listcomp>\n    data = [self.dataset[idx] for idx in possibly_batched_index]\n  File \"c:\\Users\\LESC\\Desktop\\UNet-SegRD\\lesc-env\\lib\\site-packages\\torchio\\data\\dataset.py\", line 93, in __getitem__\n    subject = self._transform(subject)\n  File \"c:\\Users\\LESC\\Desktop\\UNet-SegRD\\lesc-env\\lib\\site-packages\\torchio\\transforms\\transform.py\", line 140, in __call__\n    transformed = self.apply_transform(subject)\n  File \"c:\\Users\\LESC\\Desktop\\UNet-SegRD\\lesc-env\\lib\\site-packages\\torchio\\transforms\\augmentation\\composition.py\", line 47, in apply_transform\n    subject = transform(subject)\n  File \"c:\\Users\\LESC\\Desktop\\UNet-SegRD\\lesc-env\\lib\\site-packages\\torchio\\transforms\\transform.py\", line 140, in __call__\n    transformed = self.apply_transform(subject)\n  File \"c:\\Users\\LESC\\Desktop\\UNet-SegRD\\lesc-env\\lib\\site-packages\\torchio\\transforms\\augmentation\\composition.py\", line 47, in apply_transform\n    subject = transform(subject)\n  File \"c:\\Users\\LESC\\Desktop\\UNet-SegRD\\lesc-env\\lib\\site-packages\\torchio\\transforms\\transform.py\", line 140, in __call__\n    transformed = self.apply_transform(subject)\n  File \"c:\\Users\\LESC\\Desktop\\UNet-SegRD\\lesc-env\\lib\\site-packages\\torchio\\transforms\\preprocessing\\label\\one_hot.py\", line 26, in apply_transform\n    self.one_hot(image)\n  File \"c:\\Users\\LESC\\Desktop\\UNet-SegRD\\lesc-env\\lib\\site-packages\\torchio\\transforms\\preprocessing\\label\\one_hot.py\", line 40, in one_hot\n    raise RuntimeError(message)\nRuntimeError: The number of input channels must be 1, but it is 3\n",
     "output_type": "error",
     "traceback": [
      "\u001b[1;31m---------------------------------------------------------------------------\u001b[0m",
      "\u001b[1;31mRuntimeError\u001b[0m                              Traceback (most recent call last)",
      "Cell \u001b[1;32mIn[60], line 15\u001b[0m\n\u001b[0;32m     12\u001b[0m \u001b[39mprint\u001b[39m(\u001b[39m\"\u001b[39m\u001b[39mTest:      \u001b[39m\u001b[39m\"\u001b[39m, \u001b[39mlen\u001b[39m(data\u001b[39m.\u001b[39mtest_set))\n\u001b[0;32m     14\u001b[0m train_loader \u001b[39m=\u001b[39m data\u001b[39m.\u001b[39mtrain_dataloader()\n\u001b[1;32m---> 15\u001b[0m batch \u001b[39m=\u001b[39m \u001b[39mnext\u001b[39;49m(\u001b[39miter\u001b[39;49m(train_loader))\n\u001b[0;32m     16\u001b[0m \u001b[39mprint\u001b[39m(batch)\n\u001b[0;32m     18\u001b[0m \u001b[39m# import matplotlib.pyplot as plt\u001b[39;00m\n\u001b[0;32m     19\u001b[0m \u001b[39m# plt.imshow(np.transpose(data.subjects[1]['image'].data.numpy()[:,:,:,0], (2,1,0))); plt.show()\u001b[39;00m\n",
      "File \u001b[1;32mc:\\Users\\LESC\\Desktop\\UNet-SegRD\\lesc-env\\lib\\site-packages\\torch\\utils\\data\\dataloader.py:521\u001b[0m, in \u001b[0;36m_BaseDataLoaderIter.__next__\u001b[1;34m(self)\u001b[0m\n\u001b[0;32m    519\u001b[0m \u001b[39mif\u001b[39;00m \u001b[39mself\u001b[39m\u001b[39m.\u001b[39m_sampler_iter \u001b[39mis\u001b[39;00m \u001b[39mNone\u001b[39;00m:\n\u001b[0;32m    520\u001b[0m     \u001b[39mself\u001b[39m\u001b[39m.\u001b[39m_reset()\n\u001b[1;32m--> 521\u001b[0m data \u001b[39m=\u001b[39m \u001b[39mself\u001b[39;49m\u001b[39m.\u001b[39;49m_next_data()\n\u001b[0;32m    522\u001b[0m \u001b[39mself\u001b[39m\u001b[39m.\u001b[39m_num_yielded \u001b[39m+\u001b[39m\u001b[39m=\u001b[39m \u001b[39m1\u001b[39m\n\u001b[0;32m    523\u001b[0m \u001b[39mif\u001b[39;00m \u001b[39mself\u001b[39m\u001b[39m.\u001b[39m_dataset_kind \u001b[39m==\u001b[39m _DatasetKind\u001b[39m.\u001b[39mIterable \u001b[39mand\u001b[39;00m \\\n\u001b[0;32m    524\u001b[0m         \u001b[39mself\u001b[39m\u001b[39m.\u001b[39m_IterableDataset_len_called \u001b[39mis\u001b[39;00m \u001b[39mnot\u001b[39;00m \u001b[39mNone\u001b[39;00m \u001b[39mand\u001b[39;00m \\\n\u001b[0;32m    525\u001b[0m         \u001b[39mself\u001b[39m\u001b[39m.\u001b[39m_num_yielded \u001b[39m>\u001b[39m \u001b[39mself\u001b[39m\u001b[39m.\u001b[39m_IterableDataset_len_called:\n",
      "File \u001b[1;32mc:\\Users\\LESC\\Desktop\\UNet-SegRD\\lesc-env\\lib\\site-packages\\torch\\utils\\data\\dataloader.py:1203\u001b[0m, in \u001b[0;36m_MultiProcessingDataLoaderIter._next_data\u001b[1;34m(self)\u001b[0m\n\u001b[0;32m   1201\u001b[0m \u001b[39melse\u001b[39;00m:\n\u001b[0;32m   1202\u001b[0m     \u001b[39mdel\u001b[39;00m \u001b[39mself\u001b[39m\u001b[39m.\u001b[39m_task_info[idx]\n\u001b[1;32m-> 1203\u001b[0m     \u001b[39mreturn\u001b[39;00m \u001b[39mself\u001b[39;49m\u001b[39m.\u001b[39;49m_process_data(data)\n",
      "File \u001b[1;32mc:\\Users\\LESC\\Desktop\\UNet-SegRD\\lesc-env\\lib\\site-packages\\torch\\utils\\data\\dataloader.py:1229\u001b[0m, in \u001b[0;36m_MultiProcessingDataLoaderIter._process_data\u001b[1;34m(self, data)\u001b[0m\n\u001b[0;32m   1227\u001b[0m \u001b[39mself\u001b[39m\u001b[39m.\u001b[39m_try_put_index()\n\u001b[0;32m   1228\u001b[0m \u001b[39mif\u001b[39;00m \u001b[39misinstance\u001b[39m(data, ExceptionWrapper):\n\u001b[1;32m-> 1229\u001b[0m     data\u001b[39m.\u001b[39;49mreraise()\n\u001b[0;32m   1230\u001b[0m \u001b[39mreturn\u001b[39;00m data\n",
      "File \u001b[1;32mc:\\Users\\LESC\\Desktop\\UNet-SegRD\\lesc-env\\lib\\site-packages\\torch\\_utils.py:434\u001b[0m, in \u001b[0;36mExceptionWrapper.reraise\u001b[1;34m(self)\u001b[0m\n\u001b[0;32m    430\u001b[0m \u001b[39mexcept\u001b[39;00m \u001b[39mTypeError\u001b[39;00m:\n\u001b[0;32m    431\u001b[0m     \u001b[39m# If the exception takes multiple arguments, don't try to\u001b[39;00m\n\u001b[0;32m    432\u001b[0m     \u001b[39m# instantiate since we don't know how to\u001b[39;00m\n\u001b[0;32m    433\u001b[0m     \u001b[39mraise\u001b[39;00m \u001b[39mRuntimeError\u001b[39;00m(msg) \u001b[39mfrom\u001b[39;00m \u001b[39mNone\u001b[39m\n\u001b[1;32m--> 434\u001b[0m \u001b[39mraise\u001b[39;00m exception\n",
      "\u001b[1;31mRuntimeError\u001b[0m: Caught RuntimeError in DataLoader worker process 0.\nOriginal Traceback (most recent call last):\n  File \"c:\\Users\\LESC\\Desktop\\UNet-SegRD\\lesc-env\\lib\\site-packages\\torch\\utils\\data\\_utils\\worker.py\", line 287, in _worker_loop\n    data = fetcher.fetch(index)\n  File \"c:\\Users\\LESC\\Desktop\\UNet-SegRD\\lesc-env\\lib\\site-packages\\torch\\utils\\data\\_utils\\fetch.py\", line 49, in fetch\n    data = [self.dataset[idx] for idx in possibly_batched_index]\n  File \"c:\\Users\\LESC\\Desktop\\UNet-SegRD\\lesc-env\\lib\\site-packages\\torch\\utils\\data\\_utils\\fetch.py\", line 49, in <listcomp>\n    data = [self.dataset[idx] for idx in possibly_batched_index]\n  File \"c:\\Users\\LESC\\Desktop\\UNet-SegRD\\lesc-env\\lib\\site-packages\\torchio\\data\\dataset.py\", line 93, in __getitem__\n    subject = self._transform(subject)\n  File \"c:\\Users\\LESC\\Desktop\\UNet-SegRD\\lesc-env\\lib\\site-packages\\torchio\\transforms\\transform.py\", line 140, in __call__\n    transformed = self.apply_transform(subject)\n  File \"c:\\Users\\LESC\\Desktop\\UNet-SegRD\\lesc-env\\lib\\site-packages\\torchio\\transforms\\augmentation\\composition.py\", line 47, in apply_transform\n    subject = transform(subject)\n  File \"c:\\Users\\LESC\\Desktop\\UNet-SegRD\\lesc-env\\lib\\site-packages\\torchio\\transforms\\transform.py\", line 140, in __call__\n    transformed = self.apply_transform(subject)\n  File \"c:\\Users\\LESC\\Desktop\\UNet-SegRD\\lesc-env\\lib\\site-packages\\torchio\\transforms\\augmentation\\composition.py\", line 47, in apply_transform\n    subject = transform(subject)\n  File \"c:\\Users\\LESC\\Desktop\\UNet-SegRD\\lesc-env\\lib\\site-packages\\torchio\\transforms\\transform.py\", line 140, in __call__\n    transformed = self.apply_transform(subject)\n  File \"c:\\Users\\LESC\\Desktop\\UNet-SegRD\\lesc-env\\lib\\site-packages\\torchio\\transforms\\preprocessing\\label\\one_hot.py\", line 26, in apply_transform\n    self.one_hot(image)\n  File \"c:\\Users\\LESC\\Desktop\\UNet-SegRD\\lesc-env\\lib\\site-packages\\torchio\\transforms\\preprocessing\\label\\one_hot.py\", line 40, in one_hot\n    raise RuntimeError(message)\nRuntimeError: The number of input channels must be 1, but it is 3\n"
     ]
    }
   ],
   "source": [
    "data = MedicalDecathlonDataModule(\n",
    "    dataset_dir=dataset_dir,\n",
    "    batch_size=4,\n",
    "    train_val_ratio=0.8,\n",
    "    lesion=\"EX\"\n",
    ")\n",
    "\n",
    "data.prepare_data()\n",
    "data.setup()\n",
    "print(\"Training:  \", len(data.train_set))\n",
    "print(\"Validation: \", len(data.val_set))\n",
    "print(\"Test:      \", len(data.test_set))\n",
    "\n",
    "train_loader = data.train_dataloader()\n",
    "batch = next(iter(train_loader))\n",
    "print(batch)\n",
    "\n",
    "# import matplotlib.pyplot as plt\n",
    "# plt.imshow(np.transpose(data.subjects[1]['image'].data.numpy()[:,:,:,0], (2,1,0))); plt.show()"
   ]
  },
  {
   "attachments": {},
   "cell_type": "markdown",
   "id": "77e82b04",
   "metadata": {},
   "source": [
    "# Lightning model"
   ]
  },
  {
   "cell_type": "code",
   "execution_count": 94,
   "id": "8458665c-5f2b-4d52-82d4-87f406ac3ca1",
   "metadata": {
    "tags": []
   },
   "outputs": [],
   "source": [
    "class Model(pl.LightningModule):\n",
    "    def __init__(self, net, criterion, learning_rate, optimizer_class):\n",
    "        super().__init__()\n",
    "        self.lr = learning_rate\n",
    "        self.net = net\n",
    "        self.criterion = criterion\n",
    "        self.optimizer_class = optimizer_class\n",
    "\n",
    "    def configure_optimizers(self):\n",
    "        optimizer = self.optimizer_class(self.parameters(), lr=self.lr)\n",
    "        return optimizer\n",
    "\n",
    "    def prepare_batch(self, batch):\n",
    "        # print(f\"Batch print: {batch['image'][tio.DATA]}\")\n",
    "        return batch[\"image\"][tio.DATA], batch[\"label\"][tio.DATA]\n",
    "\n",
    "    def infer_batch(self, batch):\n",
    "        x, y = self.prepare_batch(batch)\n",
    "        # x,y = x[:,:,:,:,0] , y[:,:,:,:, 0]\n",
    "        # print(f\"Shapes batch: x: {x.shape}\\n\\n y: {y.shape}\")\n",
    "        y_hat = self.net(x)\n",
    "        print(f\"y_hat.shape: {y_hat}\")\n",
    "        return y_hat, y\n",
    "\n",
    "    def training_step(self, batch, batch_idx):\n",
    "        y_hat, y = self.infer_batch(batch)\n",
    "        loss = self.criterion(y_hat, y)\n",
    "        self.log(\"train_loss\", loss, prog_bar=True)\n",
    "        return loss\n",
    "\n",
    "    def validation_step(self, batch, batch_idx):\n",
    "        y_hat, y = self.infer_batch(batch)\n",
    "        loss = self.criterion(y_hat, y)\n",
    "        self.log(\"val_loss\", loss)\n",
    "        return loss"
   ]
  },
  {
   "cell_type": "code",
   "execution_count": 95,
   "id": "b46cfb97-3485-4fc0-8cf3-23a494650d36",
   "metadata": {
    "tags": []
   },
   "outputs": [
    {
     "name": "stderr",
     "output_type": "stream",
     "text": [
      "Using bfloat16 Automatic Mixed Precision (AMP)\n",
      "GPU available: False, used: False\n",
      "TPU available: False, using: 0 TPU cores\n",
      "IPU available: False, using: 0 IPUs\n"
     ]
    }
   ],
   "source": [
    "unet = monai.networks.nets.UNet(\n",
    "    spatial_dims=2,\n",
    "    in_channels=3,\n",
    "    out_channels=2,\n",
    "    channels=(8, 16, 32, 64),\n",
    "    strides=(2, 2, 2),\n",
    ")\n",
    "\n",
    "model = Model(\n",
    "    net=unet,\n",
    "    criterion=monai.losses.DiceCELoss(softmax=True),\n",
    "    learning_rate=1e-2,\n",
    "    optimizer_class=torch.optim.AdamW,\n",
    ")\n",
    "early_stopping = pl.callbacks.early_stopping.EarlyStopping(\n",
    "    monitor=\"val_loss\",\n",
    ")\n",
    "trainer = pl.Trainer(\n",
    "    gpus=0,\n",
    "    precision='bf16',\n",
    "    callbacks=[early_stopping]\n",
    ")\n",
    "trainer.logger._default_hp_metric = False"
   ]
  },
  {
   "attachments": {},
   "cell_type": "markdown",
   "id": "5819b713",
   "metadata": {},
   "source": [
    "# Training"
   ]
  },
  {
   "cell_type": "code",
   "execution_count": null,
   "id": "9fdbe858-fb6e-4a44-9137-3693b1774e4b",
   "metadata": {
    "tags": []
   },
   "outputs": [],
   "source": [
    "start = datetime.now()\n",
    "print(\"Training started at\", start)\n",
    "trainer.fit(model=model, datamodule=data)\n",
    "print(\"Training duration:\", datetime.now() - start)"
   ]
  },
  {
   "cell_type": "code",
   "execution_count": null,
   "id": "351cbd45-c687-43fb-b3be-f2327991dfdc",
   "metadata": {},
   "outputs": [],
   "source": [
    "%tensorboard --logdir lightning_logs"
   ]
  },
  {
   "attachments": {},
   "cell_type": "markdown",
   "id": "641b4e32",
   "metadata": {},
   "source": [
    "# Plot validation results"
   ]
  },
  {
   "cell_type": "code",
   "execution_count": 13,
   "id": "87190bea-0e06-4eee-8389-c7798780c84d",
   "metadata": {
    "tags": []
   },
   "outputs": [],
   "source": [
    "model.to(\"cpu\")\n",
    "all_dices = []\n",
    "get_dice = monai.metrics.DiceMetric(include_background=False, reduction=\"none\")\n",
    "with torch.no_grad():\n",
    "    for batch in data.val_dataloader():\n",
    "        inputs, targets = model.prepare_batch(batch)\n",
    "        logits = model.net(inputs.to(model.device))\n",
    "        labels = logits.argmax(dim=1)\n",
    "        labels_one_hot = torch.nn.functional.one_hot(labels).permute(0, 4, 1, 2, 3)\n",
    "        get_dice(labels_one_hot.to(model.device), targets.to(model.device))\n",
    "    metric = get_dice.aggregate()\n",
    "    get_dice.reset()\n",
    "    all_dices.append(metric)\n",
    "all_dices = torch.cat(all_dices)"
   ]
  },
  {
   "cell_type": "code",
   "execution_count": null,
   "id": "281d433d-5480-445a-9ceb-5aef83ad5d35",
   "metadata": {
    "tags": []
   },
   "outputs": [],
   "source": [
    "records = []\n",
    "for ant, post in all_dices:\n",
    "    records.append({\"Dice\": ant, \"Label\": \"Anterior\"})\n",
    "    records.append({\"Dice\": post, \"Label\": \"Posterior\"})\n",
    "df = pd.DataFrame.from_records(records)\n",
    "ax = sns.stripplot(x=\"Label\", y=\"Dice\", data=df, size=10, alpha=0.5)\n",
    "ax.set_title(\"Dice scores\")"
   ]
  },
  {
   "attachments": {},
   "cell_type": "markdown",
   "id": "7a07dcd4",
   "metadata": {},
   "source": [
    "# Test"
   ]
  },
  {
   "cell_type": "code",
   "execution_count": 15,
   "id": "171746d2-050c-4456-b6de-afa5c652306b",
   "metadata": {
    "tags": []
   },
   "outputs": [],
   "source": [
    "with torch.no_grad():\n",
    "    for batch in data.test_dataloader():\n",
    "        inputs = batch[\"image\"][tio.DATA].to(model.device)\n",
    "        labels = model.net(inputs).argmax(dim=1, keepdim=True).cpu()\n",
    "        break\n",
    "batch_subjects = tio.utils.get_subjects_from_batch(batch)\n",
    "tio.utils.add_images_from_batch(batch_subjects, labels, tio.LabelMap)"
   ]
  },
  {
   "cell_type": "code",
   "execution_count": null,
   "id": "c1e620f8-90bf-463a-91be-856c0608f7e7",
   "metadata": {
    "tags": []
   },
   "outputs": [],
   "source": [
    "for subject in batch_subjects:\n",
    "    subject.plot()"
   ]
  },
  {
   "cell_type": "code",
   "execution_count": null,
   "id": "a16c6051-972d-491f-9fbf-88d3075ffa02",
   "metadata": {},
   "outputs": [],
   "source": []
  }
 ],
 "metadata": {
  "kernelspec": {
   "display_name": "lesc-env",
   "language": "python",
   "name": "python3"
  },
  "language_info": {
   "codemirror_mode": {
    "name": "ipython",
    "version": 3
   },
   "file_extension": ".py",
   "mimetype": "text/x-python",
   "name": "python",
   "nbconvert_exporter": "python",
   "pygments_lexer": "ipython3",
   "version": "3.9.12"
  },
  "vscode": {
   "interpreter": {
    "hash": "7561ee3bf7283a7ee20208c9de9e891ea891fd52bb99e81fee2c25f671b62ad4"
   }
  }
 },
 "nbformat": 4,
 "nbformat_minor": 5
}
